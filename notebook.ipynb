{
 "cells": [
  {
   "cell_type": "code",
   "execution_count": 53,
   "metadata": {},
   "outputs": [],
   "source": [
    "class Variable:\n",
    "    data: float\n",
    "    label: str\n",
    "    _children: tuple\n",
    "    _grad: float\n",
    "    _local_derivative: callable\n",
    "\n",
    "    def __init__(self, val, label=None, children=()):\n",
    "        self.data = val\n",
    "        self.label = label\n",
    "        self._grad = 0\n",
    "        self._children = children\n",
    "        self._local_derivative = lambda: 1\n",
    "    \n",
    "    def __repr__(self):\n",
    "        return f\"Variable({self.data})\"\n",
    "    \n",
    "    def backwards(self):\n",
    "        self._grad = 1\n",
    "        self._backprop()\n",
    "\n",
    "    def _backprop(self):\n",
    "        for child in self._children:\n",
    "            child._grad += self._grad * child._local_derivative()\n",
    "            child._backprop()\n",
    "    \n",
    "    def clear_grad(self):\n",
    "        self._grad = 0\n",
    "        for child in self._children:\n",
    "            child.clear_grad()\n",
    "    \n",
    "    @property\n",
    "    def grad(self):\n",
    "        return self._grad\n",
    "\n",
    "    def __add__(self, other):\n",
    "        self._local_derivative = lambda: 1\n",
    "        other._local_derivative = lambda: 1\n",
    "        return Variable(self.data + other.data, f\"({self.label}+{other.label})\", (self, other))\n",
    "    \n",
    "    def __sub__(self, other):\n",
    "        self._local_derivative = lambda: 1\n",
    "        other._local_derivative = lambda: -1\n",
    "        return Variable(self.data - other.data, f\"({self.label}-{other.label})\", (self, other))\n",
    "\n",
    "    def __mul__(self, other):\n",
    "        self._local_derivative = lambda: other.data\n",
    "        other._local_derivative = lambda: self.data\n",
    "        return Variable(self.data * other.data, f\"({self.label}*{other.label})\", (self, other))"
   ]
  },
  {
   "cell_type": "code",
   "execution_count": 50,
   "metadata": {},
   "outputs": [
    {
     "name": "stdout",
     "output_type": "stream",
     "text": [
      "Variable(-3)\n",
      "-1 2 -3\n"
     ]
    }
   ],
   "source": [
    "a = Variable(1, 'a')\n",
    "b = Variable(2, 'b')\n",
    "c = Variable(3, 'c')\n",
    "d = a+b\n",
    "e = b-c\n",
    "y = d*e\n",
    "\n",
    "print(y)\n",
    "\n",
    "y.backwards()\n",
    "print(a.grad, b.grad, c.grad)"
   ]
  }
 ],
 "metadata": {
  "kernelspec": {
   "display_name": "Python 3.10.4 ('ds')",
   "language": "python",
   "name": "python3"
  },
  "language_info": {
   "codemirror_mode": {
    "name": "ipython",
    "version": 3
   },
   "file_extension": ".py",
   "mimetype": "text/x-python",
   "name": "python",
   "nbconvert_exporter": "python",
   "pygments_lexer": "ipython3",
   "version": "3.10.4"
  },
  "orig_nbformat": 4,
  "vscode": {
   "interpreter": {
    "hash": "28aa96b7ddb35c2f32a039daed947af8c5d558e606d9ab6f2da72a2e7c084a57"
   }
  }
 },
 "nbformat": 4,
 "nbformat_minor": 2
}
